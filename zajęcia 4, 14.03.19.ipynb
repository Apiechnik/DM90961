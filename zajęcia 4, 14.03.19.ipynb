{
 "cells": [
  {
   "cell_type": "code",
   "execution_count": 2,
   "metadata": {},
   "outputs": [],
   "source": [
    "x=30\n",
    "n=24\n",
    "def silnia_rek(n):\n",
    "    \"\"\"Obliczanie silni rekurencyjnie\"\"\"\n",
    "    if n>1:\n",
    "        return n*silnia_rek(n-1)    #wywolanie rekurencyjne funkcji\n",
    "    elif n in (0,1):\n",
    "        return 1;"
   ]
  },
  {
   "cell_type": "code",
   "execution_count": 3,
   "metadata": {},
   "outputs": [
    {
     "data": {
      "text/plain": [
       "6"
      ]
     },
     "execution_count": 3,
     "metadata": {},
     "output_type": "execute_result"
    }
   ],
   "source": [
    "silnia_rek(3)"
   ]
  },
  {
   "cell_type": "code",
   "execution_count": 5,
   "metadata": {},
   "outputs": [],
   "source": [
    "def bern(n,x,p):\n",
    "    px=p**x\n",
    "    qx=(1-p)**(n-x)\n",
    "    n_sil = silnia_rek(n)\n",
    "    x_sil = silnia_rek(x)\n",
    "    n_x_sil = silnia_rek(n-x)\n",
    "    return (n_sil/(x_sil*n_x_sil))*px*qx"
   ]
  },
  {
   "cell_type": "code",
   "execution_count": 6,
   "metadata": {},
   "outputs": [
    {
     "data": {
      "text/plain": [
       "0.0005529960617423058"
      ]
     },
     "execution_count": 6,
     "metadata": {},
     "output_type": "execute_result"
    }
   ],
   "source": [
    "bern(30,24,0.5)"
   ]
  },
  {
   "cell_type": "code",
   "execution_count": 7,
   "metadata": {},
   "outputs": [
    {
     "data": {
      "text/plain": [
       "0.25"
      ]
     },
     "execution_count": 7,
     "metadata": {},
     "output_type": "execute_result"
    }
   ],
   "source": [
    "bern(2,2,0.5)"
   ]
  },
  {
   "cell_type": "code",
   "execution_count": 8,
   "metadata": {},
   "outputs": [],
   "source": [
    "# ładujemy bibliotekę\n",
    "import numpy as np  \n"
   ]
  },
  {
   "cell_type": "code",
   "execution_count": 9,
   "metadata": {},
   "outputs": [
    {
     "name": "stdout",
     "output_type": "stream",
     "text": [
      "Wynik eksperymentu: [0 0 0 0 0 0 1 0 1 0 1 0 1 1 0 1 1 0 1 0 0 0 1 1 0 1 1 1 1 0]\n"
     ]
    }
   ],
   "source": [
    "\n",
    "\n",
    "wszystkie_rzuty = 30\n",
    "liczba_orlow = 24\n",
    "prawd_sukcesu = 0.5\n",
    "\n",
    "#0 is reszka 1 is orzeł.\n",
    "\n",
    "# wygenerujmy jeden eksperyment - jeden rzut monetą\n",
    "\n",
    "eksperyment = np.random.randint(0,2,wszystkie_rzuty)\n",
    "\n",
    "print(f\"Wynik eksperymentu: {eksperyment}\")\n",
    "\n"
   ]
  },
  {
   "cell_type": "code",
   "execution_count": 10,
   "metadata": {},
   "outputs": [
    {
     "name": "stdout",
     "output_type": "stream",
     "text": [
      "Orły w eksperymencie: [1 1 1 1 1 1 1 1 1 1 1 1 1 1]\n",
      "Liczba orłów w eksperymencie: 14\n"
     ]
    }
   ],
   "source": [
    "\n",
    "# Oblicz liczbę orłów\n",
    "print (\"Orły w eksperymencie:\", eksperyment[eksperyment==1]) \n",
    "liczba_orlow = eksperyment[eksperyment==1].shape[0]\n",
    "print (\"Liczba orłów w eksperymencie:\", liczba_orlow)"
   ]
  },
  {
   "cell_type": "code",
   "execution_count": 13,
   "metadata": {},
   "outputs": [
    {
     "name": "stdout",
     "output_type": "stream",
     "text": [
      "Liczba orłów w eksperymencie: 30\n"
     ]
    }
   ],
   "source": [
    "liczba_orlow = eksperyment.shape[0]\n",
    "print (\"Liczba orłów w eksperymencie:\", liczba_orlow)"
   ]
  },
  {
   "cell_type": "code",
   "execution_count": null,
   "metadata": {},
   "outputs": [],
   "source": [
    "def rzut_moneta_eksperyment(ilosc_rzutow):\n",
    "\n",
    "    liczba_orlow = np.empty([ilosc_rzutow,1], dtype=int)\n",
    "    \n",
    "    for rzut in range(ilosc_rzutow):\n",
    "        eksperyment = np.random.randint(0,2,wszystkie_rzuty)\n",
    "        liczba_orlow[rzut] = eksperyment[eksperyment==1].shape[0]\n",
    "    \n",
    "    return liczba_orlow"
   ]
  },
  {
   "cell_type": "code",
   "execution_count": 32,
   "metadata": {},
   "outputs": [],
   "source": [
    "head_count = rzut_moneta_eksperyment(10000000)  "
   ]
  },
  {
   "cell_type": "code",
   "execution_count": 17,
   "metadata": {},
   "outputs": [],
   "source": [
    "def coin_toss_experiment_2(ilosc_rzutow):\n",
    "\n",
    "    head_count = np.empty([ilosc_rzutow,1], dtype=int)\n",
    "    experiment = np.random.randint(0,2,[ilosc_rzutow,wszystkie_rzuty])\n",
    "    return experiment.sum(axis=1)"
   ]
  },
  {
   "cell_type": "code",
   "execution_count": 33,
   "metadata": {},
   "outputs": [
    {
     "data": {
      "text/plain": [
       "0.007214"
      ]
     },
     "execution_count": 33,
     "metadata": {},
     "output_type": "execute_result"
    }
   ],
   "source": [
    "head_count[head_count>=24].shape[0]/1000000"
   ]
  },
  {
   "cell_type": "code",
   "execution_count": 39,
   "metadata": {},
   "outputs": [
    {
     "name": "stdout",
     "output_type": "stream",
     "text": [
      "Wall time: 11 s\n"
     ]
    },
    {
     "data": {
      "text/plain": [
       "array([[19],\n",
       "       [15],\n",
       "       [17],\n",
       "       ...,\n",
       "       [16],\n",
       "       [12],\n",
       "       [15]])"
      ]
     },
     "execution_count": 39,
     "metadata": {},
     "output_type": "execute_result"
    }
   ],
   "source": [
    "%time rzut_moneta_eksperyment(1000000)"
   ]
  },
  {
   "cell_type": "code",
   "execution_count": 40,
   "metadata": {},
   "outputs": [
    {
     "name": "stdout",
     "output_type": "stream",
     "text": [
      "\n",
      "The following command must be run outside of the IPython shell:\n",
      "\n",
      "    $ pip install matplotlib \n",
      "\n",
      "The Python package manager (pip) can only be used from outside of IPython.\n",
      "Please reissue the `pip` command in a separate terminal or command prompt.\n",
      "\n",
      "See the Python documentation for more information on how to install packages:\n",
      "\n",
      "    https://docs.python.org/3/installing/\n"
     ]
    }
   ],
   "source": [
    "pip install matplotlib "
   ]
  },
  {
   "cell_type": "code",
   "execution_count": 42,
   "metadata": {},
   "outputs": [],
   "source": [
    "import matplotlib.pyplot as plt\n",
    "# dla jupytera\n",
    "%matplotlib inline"
   ]
  },
  {
   "cell_type": "code",
   "execution_count": 43,
   "metadata": {},
   "outputs": [
    {
     "data": {
      "image/png": "[encoded data removed]",
      "text/plain": [
       "<Figure size 432x288 with 1 Axes>"
      ]
     },
     "metadata": {
      "needs_background": "light"
     },
     "output_type": "display_data"
    }
   ],
   "source": [
    "# pierwszy wykres\n",
    "squares = [1,4,9,16,25]\n",
    "plt.plot(squares)\n",
    "# uruchom podlgąd\n",
    "plt.show()"
   ]
  },
  {
   "cell_type": "code",
   "execution_count": 44,
   "metadata": {},
   "outputs": [
    {
     "data": {
      "text/plain": [
       "Text(0.5, 1.03, 'Figure Title')"
      ]
     },
     "execution_count": 44,
     "metadata": {},
     "output_type": "execute_result"
    },
    {
     "data": {
      "image/png": "[encoded data removed]",
      "text/plain": [
       "<Figure size 1080x216 with 1 Axes>"
      ]
     },
     "metadata": {
      "needs_background": "light"
     },
     "output_type": "display_data"
    }
   ],
   "source": [
    "x = [-3, 5, 7]\n",
    "y = [10, 2, 5]\n",
    "plt.figure(figsize=(15,3))\n",
    "plt.plot(x, y)\n",
    "plt.xlim(0, 10) # zasięg oś x \n",
    "plt.ylim(-3, 8) # zasięg oś y\n",
    "plt.xlabel('X Axis') # nazwa osi x\n",
    "plt.ylabel('Y axis') # nazwa osi y\n",
    "plt.title('Line Plot') \n",
    "plt.suptitle('Figure Title', size=20, y=1.03)\n",
    "# plt.savefig('test.png') # zapis do pliku"
   ]
  },
  {
   "cell_type": "code",
   "execution_count": 45,
   "metadata": {},
   "outputs": [],
   "source": [
    "import matplotlib.pyplot as plt"
   ]
  },
  {
   "cell_type": "code",
   "execution_count": 46,
   "metadata": {},
   "outputs": [
    {
     "data": {
      "image/png": "[encoded data removed]",
      "text/plain": [
       "<Figure size 432x288 with 1 Axes>"
      ]
     },
     "metadata": {
      "needs_background": "light"
     },
     "output_type": "display_data"
    }
   ],
   "source": [
    "fig, ax = plt.subplots(nrows=1, ncols=1)"
   ]
  },
  {
   "cell_type": "code",
   "execution_count": 47,
   "metadata": {},
   "outputs": [
    {
     "data": {
      "image/png": "[encoded data removed]",
      "text/plain": [
       "<Figure size 432x288 with 8 Axes>"
      ]
     },
     "metadata": {
      "needs_background": "light"
     },
     "output_type": "display_data"
    }
   ],
   "source": [
    "\n",
    "type(fig)\n",
    "type(ax)\n",
    "fig.get_size_inches()\n",
    "fig.set_size_inches(14,4)\n",
    "fig\n",
    "fig.set_facecolor('.9')\n",
    "ax.set_facecolor('.7')\n",
    "# mozna tez tak S\n",
    "plot_objects = plt.subplots(2,4)"
   ]
  },
  {
   "cell_type": "code",
   "execution_count": 49,
   "metadata": {},
   "outputs": [
    {
     "data": {
      "text/plain": [
       "Text(0.5, 1.03, 'Figure Title')"
      ]
     },
     "execution_count": 49,
     "metadata": {},
     "output_type": "execute_result"
    },
    {
     "data": {
      "image/png": "[encoded data removed]",
      "text/plain": [
       "<Figure size 1080x216 with 1 Axes>"
      ]
     },
     "metadata": {
      "needs_background": "light"
     },
     "output_type": "display_data"
    }
   ],
   "source": [
    "fig, ax = plt.subplots(figsize=(15,3))\n",
    "ax.plot(x, y)\n",
    "ax.set_xlim(0, 10)\n",
    "ax.set_ylim(-3, 8)\n",
    "ax.set_xlabel('X axis')\n",
    "ax.set_ylabel('Y axis')\n",
    "ax.set_title('Line Plot')\n",
    "fig.suptitle('Figure Title', size=20, y=1.03)"
   ]
  },
  {
   "cell_type": "code",
   "execution_count": 52,
   "metadata": {},
   "outputs": [],
   "source": [
    "from random import randint\n",
    "\n",
    "class Die(object):\n",
    "\t\"\"\"Pojedyncza kość do gry\"\"\"\n",
    "\tdef __init__(self, num_sides = 6):\n",
    "\t\t\"\"\"Kość to zazwyczaj sześcian\"\"\"\n",
    "\t\tself.num_sides = num_sides\n",
    "\t\n",
    "\tdef roll(self):\n",
    "\t    \"\"\"Zwraca wartość 1 do liczby ścianek losowo\"\"\"\n",
    "\t    return randint(1,self.num_sides)"
   ]
  },
  {
   "cell_type": "code",
   "execution_count": null,
   "metadata": {},
   "outputs": [],
   "source": []
  }
 ],
 "metadata": {
  "kernelspec": {
   "display_name": "Python 3",
   "language": "python",
   "name": "python3"
  },
  "language_info": {
   "codemirror_mode": {
    "name": "ipython",
    "version": 3
   },
   "file_extension": ".py",
   "mimetype": "text/x-python",
   "name": "python",
   "nbconvert_exporter": "python",
   "pygments_lexer": "ipython3",
   "version": "3.7.1"
  }
 },
 "nbformat": 4,
 "nbformat_minor": 2
}
